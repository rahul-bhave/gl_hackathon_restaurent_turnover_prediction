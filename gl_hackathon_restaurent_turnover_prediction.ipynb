{
 "cells": [
  {
   "cell_type": "code",
   "execution_count": 40,
   "id": "4ac1470d-f733-49b1-ab3b-74e699451aa8",
   "metadata": {},
   "outputs": [
    {
     "name": "stdout",
     "output_type": "stream",
     "text": [
      "Requirement already satisfied: pandas in c:\\users\\rahulbhave\\code\\gl_hackathon_restaurent_turnover_prediction\\env\\lib\\site-packages (2.2.2)\n",
      "Requirement already satisfied: scikit-learn in c:\\users\\rahulbhave\\code\\gl_hackathon_restaurent_turnover_prediction\\env\\lib\\site-packages (1.4.2)\n",
      "Requirement already satisfied: python-dateutil>=2.8.2 in c:\\users\\rahulbhave\\code\\gl_hackathon_restaurent_turnover_prediction\\env\\lib\\site-packages (from pandas) (2.9.0.post0)\n",
      "Requirement already satisfied: pytz>=2020.1 in c:\\users\\rahulbhave\\code\\gl_hackathon_restaurent_turnover_prediction\\env\\lib\\site-packages (from pandas) (2024.1)\n",
      "Requirement already satisfied: tzdata>=2022.7 in c:\\users\\rahulbhave\\code\\gl_hackathon_restaurent_turnover_prediction\\env\\lib\\site-packages (from pandas) (2024.1)\n",
      "Requirement already satisfied: numpy>=1.22.4 in c:\\users\\rahulbhave\\code\\gl_hackathon_restaurent_turnover_prediction\\env\\lib\\site-packages (from pandas) (1.26.4)\n",
      "Requirement already satisfied: six>=1.5 in c:\\users\\rahulbhave\\code\\gl_hackathon_restaurent_turnover_prediction\\env\\lib\\site-packages (from python-dateutil>=2.8.2->pandas) (1.16.0)\n",
      "Requirement already satisfied: scipy>=1.6.0 in c:\\users\\rahulbhave\\code\\gl_hackathon_restaurent_turnover_prediction\\env\\lib\\site-packages (from scikit-learn) (1.13.0)\n",
      "Requirement already satisfied: joblib>=1.2.0 in c:\\users\\rahulbhave\\code\\gl_hackathon_restaurent_turnover_prediction\\env\\lib\\site-packages (from scikit-learn) (1.4.0)\n",
      "Requirement already satisfied: threadpoolctl>=2.0.0 in c:\\users\\rahulbhave\\code\\gl_hackathon_restaurent_turnover_prediction\\env\\lib\\site-packages (from scikit-learn) (3.4.0)\n"
     ]
    },
    {
     "name": "stderr",
     "output_type": "stream",
     "text": [
      "WARNING: You are using pip version 21.1.1; however, version 24.0 is available.\n",
      "You should consider upgrading via the 'c:\\users\\rahulbhave\\code\\gl_hackathon_restaurent_turnover_prediction\\env\\scripts\\python.exe -m pip install --upgrade pip' command.\n"
     ]
    },
    {
     "name": "stdout",
     "output_type": "stream",
     "text": [
      "Train RMSE: 20684399.429881968\n",
      "Validation RMSE: 20128061.810373373\n"
     ]
    }
   ],
   "source": [
    "# Installing necessary libraries\n",
    "! pip install pandas scikit-learn\n",
    "\n",
    "# Step 2: Import required libraries\n",
    "import pandas as pd\n",
    "from sklearn.model_selection import train_test_split\n",
    "from sklearn.preprocessing import StandardScaler\n",
    "from sklearn.linear_model import LinearRegression\n",
    "from sklearn.metrics import mean_squared_error\n",
    "from sklearn.impute import SimpleImputer\n",
    "import numpy as np\n",
    "\n",
    "# Step 3: Load the data\n",
    "# Assuming you have 'train.csv' and 'test.csv' files in your working directory\n",
    "train_data = pd.read_csv('Train_dataset.csv')\n",
    "test_data = pd.read_csv('Test_dataset.csv')\n",
    "\n",
    "# Step 4: Data Preprocessing\n",
    "X = train_data.drop(columns=['Annual Turnover'])\n",
    "y = train_data['Annual Turnover']\n",
    "X_test = test_data.drop(columns=['Registration Number'])\n",
    "\n",
    "# Step 5: Splitting the Data\n",
    "X_train, X_val, y_train, y_val = train_test_split(X, y, test_size=0.2, random_state=42)\n",
    "\n",
    "# Step 6: Feature Engineering\n",
    "# Assuming 'Cuisine' is a categorical variable\n",
    "X_train['Cuisine'] = X_train['Cuisine'].apply(lambda x: x.split(','))\n",
    "X_val['Cuisine'] = X_val['Cuisine'].apply(lambda x: x.split(','))\n",
    "X_test['Cuisine'] = X_test['Cuisine'].apply(lambda x: x.split(','))\n",
    "\n",
    "# Step 7: One-Hot Encoding\n",
    "cuisines_train = X_train['Cuisine'].apply(pd.Series)\n",
    "cuisines_val = X_val['Cuisine'].apply(pd.Series)\n",
    "cuisines_test = X_test['Cuisine'].apply(pd.Series)\n",
    "\n",
    "X_train = pd.concat([X_train, pd.get_dummies(cuisines_train, prefix='Cuisine')], axis=1).drop(columns=['Cuisine'])\n",
    "X_val = pd.concat([X_val, pd.get_dummies(cuisines_val, prefix='Cuisine')], axis=1).drop(columns=['Cuisine'])\n",
    "X_test = pd.concat([X_test, pd.get_dummies(cuisines_test, prefix='Cuisine')], axis=1).drop(columns=['Cuisine'])\n",
    "\n",
    "# Step 8: Impute missing values\n",
    "imputer = SimpleImputer(strategy='mean')\n",
    "X_train_imputed = imputer.fit_transform(X_train_numeric)\n",
    "X_val_imputed = imputer.transform(X_val_numeric)\n",
    "X_test_imputed = imputer.transform(X_test_numeric)\n",
    "\n",
    "# Step 9: Model Building\n",
    "model = LinearRegression()\n",
    "model.fit(X_train_imputed, y_train)\n",
    "\n",
    "# Step 10: Model Evaluation\n",
    "train_predictions = model.predict(X_train_imputed)\n",
    "val_predictions = model.predict(X_val_imputed)\n",
    "\n",
    "train_rmse = np.sqrt(mean_squared_error(y_train, train_predictions))\n",
    "val_rmse = np.sqrt(mean_squared_error(y_val, val_predictions))\n",
    "\n",
    "print(\"Train RMSE:\", train_rmse)\n",
    "print(\"Validation RMSE:\", val_rmse)\n",
    "\n",
    "# Step 11: Making Predictions\n",
    "test_predictions = model.predict(X_test_imputed)\n",
    "\n",
    "# Step 12: Creating Submission File\n",
    "submission_df = pd.DataFrame({'Registration Number': test_data['Registration Number'], 'Annual Turnover': test_predictions})\n",
    "submission_df.to_csv('submission.csv', index=False)\n"
   ]
  },
  {
   "cell_type": "code",
   "execution_count": null,
   "id": "6bdedbde-340b-460f-85a0-64a536681b2b",
   "metadata": {},
   "outputs": [],
   "source": []
  }
 ],
 "metadata": {
  "kernelspec": {
   "display_name": "Python 3 (ipykernel)",
   "language": "python",
   "name": "python3"
  },
  "language_info": {
   "codemirror_mode": {
    "name": "ipython",
    "version": 3
   },
   "file_extension": ".py",
   "mimetype": "text/x-python",
   "name": "python",
   "nbconvert_exporter": "python",
   "pygments_lexer": "ipython3",
   "version": "3.9.5"
  }
 },
 "nbformat": 4,
 "nbformat_minor": 5
}
