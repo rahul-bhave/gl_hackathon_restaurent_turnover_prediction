{
 "cells": [
  {
   "cell_type": "code",
   "execution_count": 23,
   "id": "331706bf-e448-4f9c-82f2-71a152ee34d8",
   "metadata": {},
   "outputs": [
    {
     "name": "stdout",
     "output_type": "stream",
     "text": [
      "Requirement already satisfied: pandas in c:\\users\\rahulbhave\\code\\gl_hackathon_restaurent_turnover_prediction\\env\\lib\\site-packages (2.2.2)\n",
      "Requirement already satisfied: scikit-learn in c:\\users\\rahulbhave\\code\\gl_hackathon_restaurent_turnover_prediction\\env\\lib\\site-packages (1.4.2)\n",
      "Requirement already satisfied: tzdata>=2022.7 in c:\\users\\rahulbhave\\code\\gl_hackathon_restaurent_turnover_prediction\\env\\lib\\site-packages (from pandas) (2024.1)\n",
      "Requirement already satisfied: numpy>=1.22.4 in c:\\users\\rahulbhave\\code\\gl_hackathon_restaurent_turnover_prediction\\env\\lib\\site-packages (from pandas) (1.26.4)\n",
      "Requirement already satisfied: python-dateutil>=2.8.2 in c:\\users\\rahulbhave\\code\\gl_hackathon_restaurent_turnover_prediction\\env\\lib\\site-packages (from pandas) (2.9.0.post0)\n",
      "Requirement already satisfied: pytz>=2020.1 in c:\\users\\rahulbhave\\code\\gl_hackathon_restaurent_turnover_prediction\\env\\lib\\site-packages (from pandas) (2024.1)\n",
      "Requirement already satisfied: six>=1.5 in c:\\users\\rahulbhave\\code\\gl_hackathon_restaurent_turnover_prediction\\env\\lib\\site-packages (from python-dateutil>=2.8.2->pandas) (1.16.0)\n",
      "Requirement already satisfied: scipy>=1.6.0 in c:\\users\\rahulbhave\\code\\gl_hackathon_restaurent_turnover_prediction\\env\\lib\\site-packages (from scikit-learn) (1.13.0)\n",
      "Requirement already satisfied: threadpoolctl>=2.0.0 in c:\\users\\rahulbhave\\code\\gl_hackathon_restaurent_turnover_prediction\\env\\lib\\site-packages (from scikit-learn) (3.4.0)\n",
      "Requirement already satisfied: joblib>=1.2.0 in c:\\users\\rahulbhave\\code\\gl_hackathon_restaurent_turnover_prediction\\env\\lib\\site-packages (from scikit-learn) (1.4.0)\n"
     ]
    },
    {
     "name": "stderr",
     "output_type": "stream",
     "text": [
      "WARNING: You are using pip version 21.1.1; however, version 24.0 is available.\n",
      "You should consider upgrading via the 'c:\\users\\rahulbhave\\code\\gl_hackathon_restaurent_turnover_prediction\\env\\scripts\\python.exe -m pip install --upgrade pip' command.\n"
     ]
    },
    {
     "name": "stdout",
     "output_type": "stream",
     "text": [
      "Train RMSE: 13704622.272939535\n",
      "Validation RMSE: 20610665.3648779\n"
     ]
    }
   ],
   "source": [
    "# Step 1: Installing necessary libraries\n",
    "!pip install pandas scikit-learn\n",
    "\n",
    "# Step 2: Import required libraries\n",
    "import pandas as pd\n",
    "from sklearn.model_selection import train_test_split\n",
    "from sklearn.ensemble import GradientBoostingRegressor\n",
    "from sklearn.metrics import mean_squared_error\n",
    "from sklearn.impute import SimpleImputer\n",
    "import numpy as np\n",
    "\n",
    "# Step 3: Load the data\n",
    "train_data = pd.read_csv('Train_dataset.csv')\n",
    "test_data = pd.read_csv('Test_dataset.csv')\n",
    "\n",
    "# Step 4: Data Preprocessing\n",
    "X = train_data.drop(columns=['Annual Turnover'])\n",
    "y = train_data['Annual Turnover']\n",
    "X_test = test_data.drop(columns=['Registration Number'])\n",
    "\n",
    "# Drop non-important columns if they exist\n",
    "X = X.drop(columns=['City', 'Cuisine'], errors='ignore')\n",
    "X_test = X_test.drop(columns=['City', 'Cuisine'], errors='ignore')\n",
    "\n",
    "# One-hot encode categorical variables\n",
    "X = pd.get_dummies(X)\n",
    "X_test = pd.get_dummies(X_test)\n",
    "\n",
    "# Align the columns of training and test datasets\n",
    "X, X_test = X.align(X_test, join='left', axis=1, fill_value=0)\n",
    "\n",
    "# Step 5: Splitting the Data\n",
    "X_train, X_val, y_train, y_val = train_test_split(X, y, test_size=0.2, random_state=42)\n",
    "\n",
    "# Step 6: Impute missing values only for numeric columns\n",
    "numeric_cols = X_train.select_dtypes(include=['number']).columns\n",
    "numeric_cols = numeric_cols.drop('Registration Number', errors='ignore')\n",
    "imputer = SimpleImputer(strategy='mean')\n",
    "X_train[numeric_cols] = imputer.fit_transform(X_train[numeric_cols])\n",
    "X_val[numeric_cols] = imputer.transform(X_val[numeric_cols])\n",
    "X_test[numeric_cols] = imputer.transform(X_test[numeric_cols])\n",
    "\n",
    "# Step 7: Model Building - Gradient Boosting Regression\n",
    "gb_reg = GradientBoostingRegressor(random_state=42)\n",
    "gb_reg.fit(X_train, y_train)\n",
    "\n",
    "# Step 8: Model Evaluation\n",
    "train_predictions = gb_reg.predict(X_train)\n",
    "val_predictions = gb_reg.predict(X_val)\n",
    "\n",
    "train_rmse = np.sqrt(mean_squared_error(y_train, train_predictions))\n",
    "val_rmse = np.sqrt(mean_squared_error(y_val, val_predictions))\n",
    "\n",
    "print(\"Train RMSE:\", train_rmse)\n",
    "print(\"Validation RMSE:\", val_rmse)\n",
    "\n",
    "# Step 9: Making Predictions\n",
    "test_predictions = gb_reg.predict(X_test)\n",
    "\n",
    "# Step 10: Creating Submission File\n",
    "submission_df = pd.DataFrame({'Registration Number': test_data['Registration Number'], 'Annual Turnover': test_predictions})\n",
    "submission_df.to_csv('submission_gradient_boosting.csv', index=False)\n"
   ]
  },
  {
   "cell_type": "code",
   "execution_count": null,
   "id": "56c44289-cc5e-439b-85ee-2f4c32e122b4",
   "metadata": {},
   "outputs": [],
   "source": []
  }
 ],
 "metadata": {
  "kernelspec": {
   "display_name": "Python 3 (ipykernel)",
   "language": "python",
   "name": "python3"
  },
  "language_info": {
   "codemirror_mode": {
    "name": "ipython",
    "version": 3
   },
   "file_extension": ".py",
   "mimetype": "text/x-python",
   "name": "python",
   "nbconvert_exporter": "python",
   "pygments_lexer": "ipython3",
   "version": "3.9.5"
  }
 },
 "nbformat": 4,
 "nbformat_minor": 5
}
